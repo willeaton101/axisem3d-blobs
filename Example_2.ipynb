{
 "cells": [
  {
   "cell_type": "markdown",
   "id": "929e3d91",
   "metadata": {},
   "source": [
    "# Example 2: \n",
    "\n",
    "Let us suppose we want to make a 3D model that is layered in one direction and also has a blob in it.\n",
    "\n",
    "There are two ways you could do this in axisem3D:\n",
    "1) Create a homogenous 1D model and then a layered 3D model + a blob (this is what is happening in this example)\n",
    "\n",
    "2) Use a layered 1D model and then just a blob in a homogenous 3D model - this is definitely the best way to do it. In\n",
    "this case I am just doing this example to demonstrate that you can have whatever 3D model you want and inject blobs\n",
    "into it"
   ]
  },
  {
   "cell_type": "code",
   "execution_count": 1,
   "id": "6ed7cf79",
   "metadata": {},
   "outputs": [],
   "source": [
    "# Importing what we need: \n",
    "import numpy as np\n",
    "from model_class import model\n",
    "from gen_sphere import gen_sphere\n",
    "from write_NetCDF import writeNetCDF\n",
    "from add_sphere import addSphere"
   ]
  },
  {
   "cell_type": "markdown",
   "id": "362e5360",
   "metadata": {},
   "source": [
    "Okay, lets make a model object that is originally empty. This is a model with dimensions of 20 km x 20 km x 50 km: "
   ]
  },
  {
   "cell_type": "code",
   "execution_count": 2,
   "id": "c3b84333",
   "metadata": {},
   "outputs": [],
   "source": [
    "# Define our model parameters\n",
    "x = np.array([0, 20000]) \n",
    "y = np.array([0, 20000]) \n",
    "z = np.array([0, 50000]) \n",
    "freq = 3        # [Hz]\n",
    "min_vel = 3000  # [m/s]\n",
    "epw = 3         # 3 elements per wavelength - pretty high res.\n",
    "\n",
    "# Instantiate our model object\n",
    "m = model(x,y,z, epw, freq, min_vel, oversaturation=1)"
   ]
  },
  {
   "cell_type": "markdown",
   "id": "866624ed",
   "metadata": {},
   "source": [
    "So now we might want to put some layers into our model, or some more complex structure. As I mentioned above, I would not reccomend doing a layered structure using this method in axisem, instead you should use a layered 1D .bm model and then have a 3D model that is mostly homogenous. However I want to demonstrate here that the 3D model can be whatever you want it to be "
   ]
  },
  {
   "cell_type": "code",
   "execution_count": 3,
   "id": "bbb65dc0",
   "metadata": {},
   "outputs": [],
   "source": [
    "# Lets take our initial background model for vp:\n",
    "vp_array = m.bm_vp\n",
    "\n",
    "dis = np.array([0, 10000, 18000, 30000, 50000]) # Define some random discontinuities \n",
    "layer_vps = np.array([3000, 3300, 4000, 4400]) # Defining some new velocity for these layers \n",
    "\n",
    "# get corresponding z indicies for the discontinuities:\n",
    "dis_indices = dis*m.nz/(z[1]-z[0])\n",
    "\n",
    "for i in range(len(layer_vps)):\n",
    "    vp_array[:,:, int(dis_indices[i]):int(dis_indices[i+1])] = layer_vps[i]\n",
    "\n",
    "# Now we have our layered array, we can update the bm_models - lets imagine that the vs structure is the same:\n",
    "# But we dont change the rho structure so it is still homogenous - this is obviously kinda silly but still...\n",
    "m.set_bm_vp(vp_array)\n",
    "m.set_bm_vs(vp_array)\n"
   ]
  },
  {
   "cell_type": "markdown",
   "id": "8177fceb",
   "metadata": {},
   "source": [
    "Okay, now we can write this layered 3D model to a file if we want: "
   ]
  },
  {
   "cell_type": "code",
   "execution_count": 4,
   "id": "50dd429f",
   "metadata": {},
   "outputs": [
    {
     "name": "stdout",
     "output_type": "stream",
     "text": [
      "Data written to file  example2.nc\n"
     ]
    }
   ],
   "source": [
    "writeNetCDF(m, \"example2.nc\")"
   ]
  },
  {
   "cell_type": "markdown",
   "id": "59a71314",
   "metadata": {},
   "source": [
    "If we were to run this and view it in paraview we would get the following: \n",
    "<img src=\"example_figs/Example2_noblob.png\" width=\"400\">"
   ]
  },
  {
   "cell_type": "markdown",
   "id": "7cbeb58a",
   "metadata": {},
   "source": [
    "Now we might want to add a blob in there somewhere..."
   ]
  },
  {
   "cell_type": "code",
   "execution_count": null,
   "id": "8737075f",
   "metadata": {},
   "outputs": [],
   "source": [
    "\n",
    "# What if we now want to add in a blobs to this? Simple. We first take our model and generate a sphere:\n",
    "sph = gen_sphere(model=m, radius=5000, RHO=2500, VP=2500, VS=2300)\n",
    "\n",
    "sphere_centre = [5000, 10000, 49400]\n",
    "\n",
    "sph.set_centre(sphere_centre, m, print_conf='n')\n",
    "# Add sphere to model:\n",
    "m = addSphere(sph, m)\n",
    "\n",
    "writeNetCDF(m, \"example2_withblob.nc\")\n"
   ]
  },
  {
   "cell_type": "markdown",
   "id": "72bb18e1",
   "metadata": {},
   "source": [
    "In this case we get the following: \n",
    "<img src=\"example_figs/Example2_blob.png\" width=\"400\">"
   ]
  },
  {
   "cell_type": "code",
   "execution_count": null,
   "id": "1d72d2d8",
   "metadata": {},
   "outputs": [],
   "source": []
  }
 ],
 "metadata": {
  "kernelspec": {
   "display_name": "Python 3 (ipykernel)",
   "language": "python",
   "name": "python3"
  },
  "language_info": {
   "codemirror_mode": {
    "name": "ipython",
    "version": 3
   },
   "file_extension": ".py",
   "mimetype": "text/x-python",
   "name": "python",
   "nbconvert_exporter": "python",
   "pygments_lexer": "ipython3",
   "version": "3.8.10"
  }
 },
 "nbformat": 4,
 "nbformat_minor": 5
}
